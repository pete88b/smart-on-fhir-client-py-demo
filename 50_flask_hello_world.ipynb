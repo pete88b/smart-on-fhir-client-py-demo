{
 "cells": [
  {
   "cell_type": "code",
   "execution_count": null,
   "id": "43ad15f4",
   "metadata": {},
   "outputs": [],
   "source": [
    "#default_exp flask_hello_world"
   ]
  },
  {
   "cell_type": "markdown",
   "id": "306a10b9",
   "metadata": {},
   "source": [
    "# Hello World flask app\n",
    "\n",
    "> Getting started with Flask in nbdev."
   ]
  },
  {
   "cell_type": "markdown",
   "id": "a7472549",
   "metadata": {},
   "source": [
    "# Getting started\n",
    "\n",
    "Please see index.ipynb and set things up to run on your own machine.\n",
    "\n"
   ]
  },
  {
   "cell_type": "markdown",
   "id": "66edab9b",
   "metadata": {},
   "source": [
    "## Code and test a simple flask app"
   ]
  },
  {
   "cell_type": "code",
   "execution_count": null,
   "id": "76a856b5",
   "metadata": {},
   "outputs": [],
   "source": [
    "#export\n",
    "from flask import Flask"
   ]
  },
  {
   "cell_type": "code",
   "execution_count": null,
   "id": "fb9e254d",
   "metadata": {},
   "outputs": [],
   "source": [
    "#export\n",
    "def create_app(test_config=None):\n",
    "    \"Create and configure an instance of the Flask application.\"\n",
    "    app = Flask(__name__, instance_relative_config=True)\n",
    "    app.config.from_mapping(\n",
    "        # a default secret that should be overridden by instance config\n",
    "        SECRET_KEY=\"dev\"\n",
    "    )\n",
    "\n",
    "    if test_config is None:\n",
    "        # load the instance config, if it exists, when not testing\n",
    "        app.config.from_pyfile(\"config.py\", silent=True)\n",
    "    else:\n",
    "        # load the test config if passed in\n",
    "        app.config.update(test_config)\n",
    "    \n",
    "    @app.route(\"/hello\")\n",
    "    def hello_world():\n",
    "        return f\"Hello, World!\"\n",
    "    \n",
    "    @app.route(\"/hello/<human_name>\")\n",
    "    def hello(human_name):\n",
    "        return f\"Hello, {human_name}!\"\n",
    "    \n",
    "    app.add_url_rule(\"/\", endpoint=\"hello_world\")\n",
    "    \n",
    "    return app"
   ]
  },
  {
   "cell_type": "markdown",
   "id": "d914ea9d",
   "metadata": {},
   "source": [
    "&darr; make sure we can create the app with/without specifying config"
   ]
  },
  {
   "cell_type": "code",
   "execution_count": null,
   "id": "8514e342",
   "metadata": {},
   "outputs": [],
   "source": [
    "assert not create_app().testing\n",
    "assert create_app({\"TESTING\": True}).testing"
   ]
  },
  {
   "cell_type": "markdown",
   "id": "0c227b3d",
   "metadata": {},
   "source": [
    "&darr; make requests against a test client to show that we can `GET` the `/hello` route with/without specifying a name"
   ]
  },
  {
   "cell_type": "code",
   "execution_count": null,
   "id": "47e203de",
   "metadata": {},
   "outputs": [],
   "source": [
    "app = create_app({\"TESTING\": True})\n",
    "client = app.test_client()\n",
    "response = client.get(\"/hello/Pieter van de Heuvel, MSc\")\n",
    "assert response.data == b\"Hello, Pieter van de Heuvel, MSc!\"\n",
    "response = client.get(\"/\")\n",
    "assert response.data == b\"Hello, World!\""
   ]
  },
  {
   "cell_type": "markdown",
   "id": "8cb67e72",
   "metadata": {},
   "source": [
    "The next cell just says \"run the app if we're running from the command line\".  We use `IN_NOTEBOOK` to avoid running the app when we're in the notebook."
   ]
  },
  {
   "cell_type": "code",
   "execution_count": null,
   "id": "6881a543",
   "metadata": {},
   "outputs": [],
   "source": [
    "#export\n",
    "try: from nbdev.imports import IN_NOTEBOOK\n",
    "except: IN_NOTEBOOK = False\n",
    "if __name__ == \"__main__\" and not IN_NOTEBOOK:\n",
    "    create_app().run(debug=True, port=8000)"
   ]
  },
  {
   "cell_type": "markdown",
   "id": "e19d64a2",
   "metadata": {},
   "source": [
    "## Convert this notebook to a python module\n",
    "\n",
    "After making changes to this notebook, we need to get nbdev to re-create the `flask_hello_world.py` file.\n",
    "\n",
    "We can do this in code &darr; or from the command line with `nbdev_build_lib`"
   ]
  },
  {
   "cell_type": "code",
   "execution_count": null,
   "id": "6e2838c7",
   "metadata": {},
   "outputs": [],
   "source": [
    "from nbdev.export import notebook2script\n",
    "notebook2script('50_flask_app.ipynb')"
   ]
  },
  {
   "cell_type": "markdown",
   "id": "4b0740d8",
   "metadata": {},
   "source": [
    "## Run the flask app\n",
    "\n",
    "Now we can run `python smart_on_fhir_client_py_demo/flask_hello_world.py` from the command line and hit URLs like\n",
    "- http://localhost:8000/ and \n",
    "- http://localhost:8000/hello/Pieter%20van%20de%20Heuvel,%20MSc"
   ]
  }
 ],
 "metadata": {
  "kernelspec": {
   "display_name": "Python 3",
   "language": "python",
   "name": "python3"
  }
 },
 "nbformat": 4,
 "nbformat_minor": 5
}
