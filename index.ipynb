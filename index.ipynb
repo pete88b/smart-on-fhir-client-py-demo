{
 "cells": [
  {
   "cell_type": "code",
   "execution_count": null,
   "metadata": {},
   "outputs": [],
   "source": [
    "#hide\n",
    "import json\n",
    "from pathlib import Path"
   ]
  },
  {
   "cell_type": "markdown",
   "metadata": {},
   "source": [
    "# SMART on FHIR python client demo\n",
    "\n",
    "> Demo the python SMART on FHIR client."
   ]
  },
  {
   "cell_type": "markdown",
   "metadata": {},
   "source": [
    "[![Open In Colab](https://colab.research.google.com/assets/colab-badge.svg)](https://colab.research.google.com/github/pete88b/smart-on-fhir-client-py-demo/blob/main/index.ipynb)\n",
    "\n",
    "Using [client-py](https://github.com/smart-on-fhir/client-py), this project aims to provide some simple demos to help people get started with the python client.\n",
    "\n",
    "This is also a learning excercise - so if you see anything that could be done better, please let us know."
   ]
  },
  {
   "cell_type": "markdown",
   "metadata": {},
   "source": [
    "## Getting started\n",
    "\n",
    "Note: This project `pip install`s [the latest client-py code](https://github.com/smart-on-fhir/). We could install [this commit](https://github.com/smart-on-fhir/client-py/commit/6047277daa31f10931e44ed19e92128298cdb64b) if breaking changes are introduced.\n",
    "\n",
    "We're using the latest client-py code becuase [PyPI history](https://pypi.org/project/fhirclient/#history) shows the last available release was `3.2.0` 2018-02-06 ... and we want to use some of the new FHIR R4 features.\n",
    "\n",
    "### If you want to run everything on your own machine\n",
    "\n",
    "#### Clone this project and set-up a conda environment\n",
    "\n",
    "```\n",
    "git clone https://github.com/pete88b/smart-on-fhir-client-py-demo.git\n",
    "cd smart-on-fhir-client-py-demo\n",
    "conda create -n smart-on-fhir-client-py-demo python==3.8 -y\n",
    "conda activate smart-on-fhir-client-py-demo\n",
    "pip install -r requirements.txt\n",
    "nbdev_install_git_hooks\n",
    "```\n",
    "\n",
    "#### Start jupyter \n",
    "\n",
    "If you have already created and activated your conda environment, you can start a notebook server with;\n",
    "\n",
    "```\n",
    "jupyter notebook\n",
    "```\n",
    "\n",
    "### If you want to run demo notebooks using google colab\n",
    "\n",
    "- Open [this notebook](https://colab.research.google.com/github/pete88b/smart-on-fhir-client-py-demo/blob/main/index.ipynb) in colab\n",
    "- We'll add more demo notebooks when they are ready (o:\n",
    "\n",
    "The cell below will install the fhirclient if you're running in colab."
   ]
  },
  {
   "cell_type": "code",
   "execution_count": null,
   "metadata": {},
   "outputs": [],
   "source": [
    "#hide\n",
    "IN_COLAB = 'google.colab' in str(get_ipython())\n",
    "if IN_COLAB:\n",
    "    !pip install -Uqq git+https://github.com/smart-on-fhir/client-py.git"
   ]
  },
  {
   "cell_type": "markdown",
   "metadata": {},
   "source": [
    "## Define `print_resource` - a generic way to print a resource\n",
    "\n",
    "We use `print_resource(procedure)` etc, rather than looking at specific resource details with code like `procedure.code.coding[0].as_json()`, so that the demos won't fail if resouces are missing specific content."
   ]
  },
  {
   "cell_type": "code",
   "execution_count": null,
   "metadata": {},
   "outputs": [],
   "source": [
    "def print_resource(resource, indent=None, length=100):\n",
    "    s=json.dumps(resource.as_json(), indent=indent)\n",
    "    print(s[:length-4]+' ...' if len(s)>length else s)"
   ]
  },
  {
   "cell_type": "markdown",
   "metadata": {},
   "source": [
    "## Client use"
   ]
  },
  {
   "cell_type": "markdown",
   "metadata": {},
   "source": [
    "Lets start by trying to make something like the code examples in [client-py README.md](https://github.com/smart-on-fhir/client-py) work.\n",
    "\n",
    "These docs refer to the FHIR server https://fhir-open-api-dstu2.smarthealthit.org which is probably not running any more.\n",
    "\n",
    "The following demos will use http://wildfhir4.aegis.net/fhir4-0-0 - which is one of the \"open\" servers listed on the [public test servers wiki](https://confluence.hl7.org/display/FHIR/Public+Test+Servers). If you'd like to try other servers, feel free to change `api_base` &darr;"
   ]
  },
  {
   "cell_type": "code",
   "execution_count": null,
   "metadata": {},
   "outputs": [],
   "source": [
    "settings = {\n",
    "    'app_id': 'my_web_app',\n",
    "    'api_base': 'http://wildfhir4.aegis.net/fhir4-0-0'\n",
    "}"
   ]
  },
  {
   "cell_type": "markdown",
   "metadata": {},
   "source": [
    "### Read Data from Server\n",
    "\n",
    "Note: We use `Resource ID` `'f001'` rather than `'hca-pat-1'` - which could be found with a [Aegis FHIR4-0-0 GUI](http://wildfhir4.aegis.net/fhir4-0-0-gui/index.jsf) search. \n",
    "\n",
    "If the `p.Patient.read` call raises `FHIRNotFoundException: <Response [404]>`, it probably means that the `Resource ID` does not exist on the server."
   ]
  },
  {
   "cell_type": "code",
   "execution_count": null,
   "metadata": {},
   "outputs": [
    {
     "name": "stdout",
     "output_type": "stream",
     "text": [
      "Birth Date 1994-11-17\n",
      "Patient Name Pieter van de Heuvel, MSc\n"
     ]
    }
   ],
   "source": [
    "from fhirclient import client\n",
    "smart = client.FHIRClient(settings=settings)\n",
    "\n",
    "import fhirclient.models.patient as p\n",
    "patient = p.Patient.read('f001', smart.server)\n",
    "print('Birth Date', patient.birthDate.isostring)\n",
    "print('Patient Name', smart.human_name(patient.name[0]))"
   ]
  },
  {
   "cell_type": "markdown",
   "metadata": {},
   "source": [
    "Note: We could show the full patient resource as JSON with `patient.as_json()` - which should give us the same data as `GET` http://wildfhir4.aegis.net/fhir4-0-0/Patient/f001"
   ]
  },
  {
   "cell_type": "markdown",
   "metadata": {},
   "source": [
    "## If this is a protected server ...\n",
    "\n",
    "I'm going to ignore authorization for now as `smart.authorize_url` and `smart.prepare()` raise exceptions with most of the FHIR servers I've tried."
   ]
  },
  {
   "cell_type": "markdown",
   "metadata": {},
   "source": [
    "## You can work with the `FHIRServer` class directly, without using `FHIRClient`, but this is not recommended"
   ]
  },
  {
   "cell_type": "code",
   "execution_count": null,
   "metadata": {},
   "outputs": [
    {
     "data": {
      "text/plain": [
       "['Pieter']"
      ]
     },
     "execution_count": null,
     "metadata": {},
     "output_type": "execute_result"
    }
   ],
   "source": [
    "from fhirclient import server\n",
    "smart = server.FHIRServer(None, settings['api_base'])\n",
    "import fhirclient.models.patient as p\n",
    "patient = p.Patient.read('f001', smart)\n",
    "patient.name[0].given"
   ]
  },
  {
   "cell_type": "markdown",
   "metadata": {},
   "source": [
    "## Search Records on Server\n",
    "\n",
    "Note: I think `GET` http://wildfhir4.aegis.net/fhir4-0-0/Patient/f001/Procedure should work"
   ]
  },
  {
   "cell_type": "code",
   "execution_count": null,
   "metadata": {},
   "outputs": [
    {
     "name": "stdout",
     "output_type": "stream",
     "text": [
      "{\"id\": \"f001\", \"meta\": {\"lastUpdated\": \"2020-11-15T19:51:31.947-05:00\", \"security\": [{\"code\": \"H ...\n",
      "{\"id\": \"f002\", \"meta\": {\"lastUpdated\": \"2020-11-15T19:51:32.153-05:00\", \"security\": [{\"code\": \"H ...\n",
      "{\"id\": \"f003\", \"meta\": {\"lastUpdated\": \"2020-11-15T19:51:32.574-05:00\", \"security\": [{\"code\": \"H ...\n",
      "{\"id\": \"f004\", \"meta\": {\"lastUpdated\": \"2020-11-15T19:51:32.868-05:00\", \"security\": [{\"code\": \"H ...\n"
     ]
    }
   ],
   "source": [
    "smart = client.FHIRClient(settings=settings)\n",
    "import fhirclient.models.procedure as p\n",
    "search = p.Procedure.where(struct={'subject': 'f001', 'status': 'completed'})\n",
    "procedures = search.perform_resources(smart.server)\n",
    "for procedure in procedures:\n",
    "    print_resource(procedure)\n",
    "#     print(procedure.id, procedure.code.coding[0].as_json())"
   ]
  },
  {
   "cell_type": "markdown",
   "metadata": {},
   "source": [
    "### To include the resources referred to by the procedure via `subject` in the results\n",
    "\n",
    "Before calling `search.include('subject')`, `search.construct()` gave us \n",
    "- `Procedure?subject=f001&status=completed`\n",
    "\n",
    "After calling `search.include('subject')`, `search.construct()` gave us \n",
    "- `Procedure?subject=f001&status=completed&_include=Procedure:subject`\n",
    "\n",
    "so ... `search.perform_resources` will now give us a list of procedures _and patients_ that the procedures refer to."
   ]
  },
  {
   "cell_type": "code",
   "execution_count": null,
   "metadata": {},
   "outputs": [],
   "source": [
    "search = search.include('subject')"
   ]
  },
  {
   "cell_type": "code",
   "execution_count": null,
   "metadata": {},
   "outputs": [
    {
     "name": "stdout",
     "output_type": "stream",
     "text": [
      "Procedure\n",
      "{\"id\": \"f001\", \"meta\": {\"lastUpdated\": \"2020-11-15T19:51:31.947-05:00\", \"security\": [{\"code\": \"H ...\n",
      "Patient\n",
      "{\"id\": \"f001\", \"meta\": {\"lastUpdated\": \"2021-02-01T14:47:43.050-05:00\", \"versionId\": \"5\"}, \"text ...\n",
      "Procedure\n",
      "{\"id\": \"f002\", \"meta\": {\"lastUpdated\": \"2020-11-15T19:51:32.153-05:00\", \"security\": [{\"code\": \"H ...\n",
      "Procedure\n",
      "{\"id\": \"f003\", \"meta\": {\"lastUpdated\": \"2020-11-15T19:51:32.574-05:00\", \"security\": [{\"code\": \"H ...\n",
      "Procedure\n",
      "{\"id\": \"f004\", \"meta\": {\"lastUpdated\": \"2020-11-15T19:51:32.868-05:00\", \"security\": [{\"code\": \"H ...\n"
     ]
    }
   ],
   "source": [
    "procedures = search.perform_resources(smart.server)\n",
    "for resource in procedures:\n",
    "    print(resource.__class__.__name__)\n",
    "    print_resource(resource)"
   ]
  },
  {
   "cell_type": "markdown",
   "metadata": {},
   "source": [
    "we could check the type of resource and run specific code for each type with something like\n",
    "\n",
    "```\n",
    "for resource in procedures:\n",
    "    if isinstance(resource, p.Procedure):\n",
    "        # process Procedure here\n",
    "        print(resource.id, resource.code.coding[0].as_json())\n",
    "    else:\n",
    "        # process Patient here\n",
    "        print('Patient', resource.id)\n",
    "```"
   ]
  },
  {
   "cell_type": "markdown",
   "metadata": {},
   "source": [
    "### To include the MedicationAdministration resources which refer to the procedure via `partOf`\n",
    "\n",
    "We probably won't find any `MedicationAdministration`s ..."
   ]
  },
  {
   "cell_type": "code",
   "execution_count": null,
   "metadata": {},
   "outputs": [
    {
     "name": "stdout",
     "output_type": "stream",
     "text": [
      "Procedure\n",
      "{\"id\": \"f001\", \"meta\": {\"lastUpdated\": \"2020-11-15T19:51:31.947-05:00\", \"security\": [{\"code\": \"H ...\n",
      "Patient\n",
      "{\"id\": \"f001\", \"meta\": {\"lastUpdated\": \"2021-02-01T14:47:43.050-05:00\", \"versionId\": \"5\"}, \"text ...\n",
      "Procedure\n",
      "{\"id\": \"f002\", \"meta\": {\"lastUpdated\": \"2020-11-15T19:51:32.153-05:00\", \"security\": [{\"code\": \"H ...\n",
      "Procedure\n",
      "{\"id\": \"f003\", \"meta\": {\"lastUpdated\": \"2020-11-15T19:51:32.574-05:00\", \"security\": [{\"code\": \"H ...\n",
      "Procedure\n",
      "{\"id\": \"f004\", \"meta\": {\"lastUpdated\": \"2020-11-15T19:51:32.868-05:00\", \"security\": [{\"code\": \"H ...\n"
     ]
    }
   ],
   "source": [
    "import fhirclient.models.medicationadministration as m\n",
    "search = search.include('partOf', m.MedicationAdministration, reverse=True)\n",
    "procedures = search.perform_resources(smart.server)\n",
    "for resource in procedures:\n",
    "    print(resource.__class__.__name__)\n",
    "    print_resource(resource)"
   ]
  },
  {
   "cell_type": "markdown",
   "metadata": {},
   "source": [
    "to get the raw Bundle instead of resources only, you can use:"
   ]
  },
  {
   "cell_type": "code",
   "execution_count": null,
   "metadata": {},
   "outputs": [
    {
     "name": "stdout",
     "output_type": "stream",
     "text": [
      "{\n",
      "  \"id\": \"5d16c5f5-8fa0-4d4a-8510-b592d17d833e\",\n",
      "  \"meta\": {\n",
      "    \"lastUpdated\": \"2021-04-29T09:40:02.182-04:00\",\n",
      "    \"versionId\": \"1\"\n",
      "  },\n",
      "  \"entry\": [\n",
      "    {\n",
      "      \"fullUrl\": \"http://wildfhir4.ae ...\n"
     ]
    }
   ],
   "source": [
    "bundle = search.perform(smart.server)\n",
    "# we'll just show the 1st 200 characters of the bundle (after converting to JSON)\n",
    "print_resource(bundle, indent=2, length=200)"
   ]
  },
  {
   "cell_type": "markdown",
   "metadata": {},
   "source": [
    "## Data Model Use"
   ]
  },
  {
   "cell_type": "code",
   "execution_count": null,
   "metadata": {},
   "outputs": [
    {
     "name": "stdout",
     "output_type": "stream",
     "text": [
      "{'id': 'patient-1', 'resourceType': 'Patient'}\n",
      "{'id': 'patient-1', 'name': [{'family': 'Parker', 'given': ['Peter']}], 'resourceType': 'Patient'}\n",
      "patient.as_json() raised <class 'fhirclient.models.fhirabstractbase.FHIRValidationError'> with message\n",
      "{root}:\n",
      "  name.0:\n",
      "    given:\n",
      "      Expecting property \"given\" on <class 'fhirclient.models.humanname.HumanName'> to be list, but is <class 'str'>\n"
     ]
    }
   ],
   "source": [
    "import fhirclient.models.patient as p\n",
    "import fhirclient.models.humanname as hn\n",
    "patient = p.Patient({'id': 'patient-1'})\n",
    "print(patient.as_json()) # prints `patient-1`\n",
    "\n",
    "name = hn.HumanName()\n",
    "name.given = ['Peter']\n",
    "name.family = 'Parker'\n",
    "patient.name = [name]\n",
    "print(patient.as_json()) # prints patient's JSON representation, now with id and name\n",
    "\n",
    "name.given = 'Peter'\n",
    "try:\n",
    "    patient.as_json()\n",
    "except Exception as ex:\n",
    "    print('patient.as_json() raised', type(ex),'with message')\n",
    "    print(ex)"
   ]
  },
  {
   "cell_type": "markdown",
   "metadata": {},
   "source": [
    "## Initialize from JSON file\n",
    "\n",
    "Create a folder to save json data to"
   ]
  },
  {
   "cell_type": "code",
   "execution_count": null,
   "metadata": {},
   "outputs": [],
   "source": [
    "data_path=Path('data')\n",
    "data_path.mkdir(exist_ok=True)"
   ]
  },
  {
   "cell_type": "markdown",
   "metadata": {},
   "source": [
    "Create a file by reading a patient from the server and writing as json"
   ]
  },
  {
   "cell_type": "code",
   "execution_count": null,
   "metadata": {},
   "outputs": [],
   "source": [
    "import fhirclient.models.patient as p\n",
    "\n",
    "smart = client.FHIRClient(settings=settings)\n",
    "patient = p.Patient.read('f001', smart.server)\n",
    "\n",
    "with open(data_path/'patient.json', 'w') as f:\n",
    "    f.write(json.dumps(patient.as_json(), indent=2))"
   ]
  },
  {
   "cell_type": "markdown",
   "metadata": {},
   "source": [
    "Now we can read the json file and initialize a `Patient`"
   ]
  },
  {
   "cell_type": "code",
   "execution_count": null,
   "metadata": {},
   "outputs": [
    {
     "data": {
      "text/plain": [
       "['Pieter']"
      ]
     },
     "execution_count": null,
     "metadata": {},
     "output_type": "execute_result"
    }
   ],
   "source": [
    "with open(data_path/'patient.json', 'r') as h:\n",
    "    pjs = json.load(h)\n",
    "patient = p.Patient(pjs)\n",
    "patient.name[0].given"
   ]
  },
  {
   "cell_type": "markdown",
   "metadata": {},
   "source": [
    "## Run the flask app\n",
    "\n",
    "51_flask_client_py_readme.ipynb creates a Flask app like [the client-py demo flask app](https://github.com/smart-on-fhir/client-py/blob/master/flask_app.py).\n",
    "\n",
    "You can run `python smart_on_fhir_client_py_demo/flask_client_py_readme.py` from the command line and hit \n",
    "- http://localhost:8000/\n",
    "\n",
    "This is a little different to the client-py demo;\n",
    "- It's set-up to run against http://wildfhir4.aegis.net/fhir4-0-0 which is a no-auth server\n",
    "- It'll allow you to select a patient if you're running against a no-auth server\n",
    "    - http://localhost:8000/logout\n",
    "- It'll allow you to pass a patient ID as a URL paramter\n",
    "    - http://localhost:8000/?patient_id=patient456\n",
    "- Note: It hasn't been tested with an auth server yet."
   ]
  }
 ],
 "metadata": {
  "kernelspec": {
   "display_name": "Python 3",
   "language": "python",
   "name": "python3"
  }
 },
 "nbformat": 4,
 "nbformat_minor": 2
}
