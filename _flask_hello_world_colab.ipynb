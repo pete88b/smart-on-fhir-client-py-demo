{
 "cells": [
  {
   "cell_type": "markdown",
   "id": "306a10b9",
   "metadata": {},
   "source": [
    "# Hello Colab flask app\n",
    "\n",
    "> Getting started with Flask while running in colab."
   ]
  },
  {
   "cell_type": "markdown",
   "id": "a7472549",
   "metadata": {},
   "source": [
    "[![Open In Colab](https://colab.research.google.com/assets/colab-badge.svg)](https://colab.research.google.com/github/pete88b/smart-on-fhir-client-py-demo/blob/main/_flask_hello_world_colab.ipynb)\n",
    "\n",
    "# Getting started\n",
    "\n",
    "The goal of this notebook is to show how you can create and run a flask app in google colab."
   ]
  },
  {
   "cell_type": "code",
   "execution_count": null,
   "id": "b792b913",
   "metadata": {},
   "outputs": [],
   "source": [
    "if 'google.colab' not in str(get_ipython()):\n",
    "    raise Exception(\"This notebook won't run if you're not in Colab\")"
   ]
  },
  {
   "cell_type": "markdown",
   "id": "66edab9b",
   "metadata": {},
   "source": [
    "## Code and test a simple flask app"
   ]
  },
  {
   "cell_type": "code",
   "execution_count": null,
   "id": "76a856b5",
   "metadata": {},
   "outputs": [],
   "source": [
    "from flask import Flask"
   ]
  },
  {
   "cell_type": "code",
   "execution_count": null,
   "id": "fb9e254d",
   "metadata": {},
   "outputs": [],
   "source": [
    "def create_app(test_config=None):\n",
    "    \"Create and configure an instance of the Flask application.\"\n",
    "    app = Flask(__name__, instance_relative_config=True)\n",
    "    app.config.from_mapping(\n",
    "        # a default secret that should be overridden by instance config\n",
    "        SECRET_KEY=\"dev\"\n",
    "    )\n",
    "\n",
    "    if test_config is None:\n",
    "        # load the instance config, if it exists, when not testing\n",
    "        app.config.from_pyfile(\"config.py\", silent=True)\n",
    "    else:\n",
    "        # load the test config if passed in\n",
    "        app.config.update(test_config)\n",
    "    \n",
    "    @app.route(\"/hello\")\n",
    "    def hello_world():\n",
    "        return f\"Hello, World!\"\n",
    "    \n",
    "    @app.route(\"/hello/<human_name>\")\n",
    "    def hello(human_name):\n",
    "        return f\"Hello, {human_name}!\"\n",
    "    \n",
    "    app.add_url_rule(\"/\", endpoint=\"hello_world\")\n",
    "    \n",
    "    return app"
   ]
  },
  {
   "cell_type": "markdown",
   "id": "d914ea9d",
   "metadata": {},
   "source": [
    "&darr; make sure we can create the app with/without specifying config"
   ]
  },
  {
   "cell_type": "code",
   "execution_count": null,
   "id": "8514e342",
   "metadata": {},
   "outputs": [],
   "source": [
    "assert not create_app().testing\n",
    "assert create_app({\"TESTING\": True}).testing"
   ]
  },
  {
   "cell_type": "markdown",
   "id": "0c227b3d",
   "metadata": {},
   "source": [
    "&darr; make requests against a test client to show that we can `GET` the `/hello` route with/without specifying a name"
   ]
  },
  {
   "cell_type": "code",
   "execution_count": null,
   "id": "47e203de",
   "metadata": {},
   "outputs": [],
   "source": [
    "app = create_app({\"TESTING\": True})\n",
    "client = app.test_client()\n",
    "response = client.get(\"/hello/Pieter van de Heuvel, MSc\")\n",
    "assert response.data == b\"Hello, Pieter van de Heuvel, MSc!\"\n",
    "response = client.get(\"/\")\n",
    "assert response.data == b\"Hello, World!\""
   ]
  },
  {
   "cell_type": "markdown",
   "id": "e6829d92",
   "metadata": {},
   "source": [
    "## Run the app in colab\n",
    "\n",
    "The following cell will only run if you're in colab, where you'll see output like\n",
    "\n",
    "```\n",
    " * Serving Flask app \"__main__\" (lazy loading)\n",
    " ...\n",
    "INFO:werkzeug: * Running on http://127.0.0.1:5000/ (Press CTRL+C to quit)\n",
    "DEBUG:urllib3.connectionpool:Starting new HTTPS connection (1): bin.equinox.io:443\n",
    "...\n",
    "DEBUG:urllib3.connectionpool:http://localhost:4040 \"GET /api/tunnels HTTP/1.1\" 200 779\n",
    " * Running on http://35c09c8e5eb5.ngrok.io\n",
    " * Traffic stats available on http://127.0.0.1:4040\n",
    "```\n",
    "\n",
    "Hit `ngrok.io` links to see the app (replace 35c09c8e5eb5 with your server name below)\n",
    "\n",
    "- http://35c09c8e5eb5.ngrok.io/ and \n",
    "- http://35c09c8e5eb5.ngrok.io/hello/Pieter%20van%20de%20Heuvel,%20MSc"
   ]
  },
  {
   "cell_type": "code",
   "execution_count": null,
   "id": "5af8e3a9",
   "metadata": {},
   "outputs": [],
   "source": [
    "logging.basicConfig(level=logging.DEBUG)\n",
    "from flask_ngrok import run_with_ngrok\n",
    "run_with_ngrok(app)\n",
    "app.run()"
   ]
  }
 ],
 "metadata": {
  "kernelspec": {
   "display_name": "Python 3",
   "language": "python",
   "name": "python3"
  }
 },
 "nbformat": 4,
 "nbformat_minor": 5
}
