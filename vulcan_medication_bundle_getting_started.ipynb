{
 "cells": [
  {
   "cell_type": "markdown",
   "id": "830cb23d",
   "metadata": {},
   "source": [
    "# Overview\n",
    "\n",
    "> The goal of this notebook is to show how we could create a list of Medication* resources mapped to a single medication resource type.\n",
    "\n",
    "Specifically, we'll create a `Bundle` after mapping `MedicationAdministration`, `MedicationDispense` and `MedicationRequest` to `MedicationStatement` - but we could use the same approach to map to any target type.\n",
    "\n",
    "[![Open In Colab](https://colab.research.google.com/assets/colab-badge.svg)](https://colab.research.google.com/github/pete88b/smart-on-fhir-client-py-demo/blob/main/vulcan_medication_bundle_getting_started.ipynb)\n",
    "\n",
    "This notebook also tries to show some of the exploration and reasoning behind the choices made along the way. Feel free to skip to the \"Transform per-subject bundle of medication resources\" section at the end if you don't need these details (o:\n",
    "\n",
    "## Quick Links\n",
    "\n",
    "- https://www.hl7.org/fhir/bundle.html\n",
    "- https://www.hl7.org/fhir/list.html\n",
    "\n",
    "## Next steps\n",
    "\n",
    "Might we want to\n",
    "- create one bundle per subject from bundles containing resources for multiple subjects\n",
    "- define some kind of order of entries in the bundle\n",
    "- think about how we handle resources that fail validation \n",
    "\n",
    "## Why are we not using `List`\n",
    "\n",
    "We need a container that allows us to include complete resources.\n",
    "\n",
    "The following JSON shows how a MedicationStatement can be part of a bundle entry;\n",
    "\n",
    "```\n",
    "{'entry': [\n",
    "  {'resource': \n",
    "    {'id': '1733210',\n",
    "     'subject': {'reference': 'Patient/1732972'},\n",
    "     'resourceType': 'MedicationStatement'}}],\n",
    " 'resourceType': 'Bundle'}\n",
    "```\n",
    "\n",
    "but `List` entries must be references;\n",
    "\n",
    "```\n",
    "{'entry': [\n",
    "   {'item': {'reference': 'MedicationStatement/1733210'}}],\n",
    " 'resourceType': 'List'}\n",
    "```\n",
    "\n",
    "and we won't have valid references for mapped/transformed resources (i.e. for MedicationDispense mapped to MedicationStatement)"
   ]
  },
  {
   "cell_type": "code",
   "execution_count": null,
   "id": "554cd4b5",
   "metadata": {},
   "outputs": [],
   "source": [
    "IN_COLAB = 'google.colab' in str(get_ipython())\n",
    "if IN_COLAB:\n",
    "    !pip install -Uqq git+https://github.com/smart-on-fhir/client-py.git"
   ]
  },
  {
   "cell_type": "code",
   "execution_count": null,
   "id": "108e20f3",
   "metadata": {},
   "outputs": [],
   "source": [
    "import IPython, json, requests\n",
    "from datetime import datetime, timezone\n",
    "from collections import Counter\n",
    "from pathlib import Path\n",
    "from fhirclient import client\n",
    "from fhirclient.models.annotation import Annotation\n",
    "from fhirclient.models.bundle import Bundle, BundleEntry\n",
    "from fhirclient.models.dosage import Dosage\n",
    "from fhirclient.models.fhirreference import FHIRReference   \n",
    "from fhirclient.models.humanname import HumanName\n",
    "from fhirclient.models.medication import Medication\n",
    "from fhirclient.models.medicationadministration import MedicationAdministration\n",
    "from fhirclient.models.medicationdispense import MedicationDispense\n",
    "from fhirclient.models.medicationrequest import MedicationRequest\n",
    "from fhirclient.models.medicationstatement import MedicationStatement\n",
    "from fhirclient.models.patient import Patient\n",
    "from fhirclient.models.fhirdate import FHIRDate\n",
    "from fhirclient.models.list import List, ListEntry"
   ]
  },
  {
   "cell_type": "code",
   "execution_count": null,
   "id": "37f88aa5",
   "metadata": {},
   "outputs": [],
   "source": [
    "settings = {\n",
    "    'app_id': 'my_web_app',\n",
    "    'api_base': 'http://hapi.fhir.org/baseR4'\n",
    "}\n",
    "smart = client.FHIRClient(settings=settings)"
   ]
  },
  {
   "cell_type": "markdown",
   "id": "af31d483",
   "metadata": {},
   "source": [
    "### Why are we reading FHIR resources as raw JSON?\n",
    "\n",
    "Lots of the data in the test servers fails validation, making it really hard to find examples that work with the FHIR py classes.\n",
    "\n",
    "```\n",
    "search = MedicationRequest.where(struct={})\n",
    "print(search.construct())\n",
    "resources = search.perform_resources(smart.server)\n",
    "```\n",
    "\n",
    "the `perform_resources` call &uarr; fails with validation errors &darr; and we can't access the data )o:\n",
    "\n",
    "```\n",
    "FHIRValidationError: {root}:\n",
    "  entry.1:\n",
    "    resource:\n",
    "      'Non-optional property \"subject\" on <fhirclient.models.medicationrequest.MedicationRequest object at 0x00000281E4249790> is missing'\n",
    "      'Non-optional property \"status\" on <fhirclient.models.medicationrequest.MedicationRequest object at 0x00000281E4249790> is missing'\n",
    "      'Non-optional property \"medication\" on <fhirclient.models.medicationrequest.MedicationRequest object at 0x00000281E4249790> is missing'\n",
    "      'Non-optional property \"intent\" on <fhirclient.models.medicationrequest.MedicationRequest object at 0x00000281E4249790> is missing'\n",
    "```"
   ]
  },
  {
   "cell_type": "code",
   "execution_count": null,
   "id": "ab28136b",
   "metadata": {},
   "outputs": [],
   "source": [
    "def get_bundle_as_raw_json(api_base, resource_type, url_suffix=None):\n",
    "    \"GET a bundle of resources of a specific type\"\n",
    "    url=f'{api_base}/{resource_type}'\n",
    "    if url_suffix is not None:\n",
    "        url+=url_suffix\n",
    "    print('GET',url)\n",
    "    return requests.get(url).json()\n",
    "\n",
    "def get_next_bundle_as_raw_json(json_response):\n",
    "    \"GET the next set of results\"\n",
    "    if len(json_response['link']) == 0: return None\n",
    "    url = json_response['link'][1]['url']\n",
    "    print('GET',url)\n",
    "    return requests.get(url).json()"
   ]
  },
  {
   "cell_type": "markdown",
   "id": "748cebad",
   "metadata": {},
   "source": [
    "### Save some bundles to file\n",
    "\n",
    "this will make repeatable runs of this notebook possible if resources on the http://hapi.fhir.org/baseR4 server change"
   ]
  },
  {
   "cell_type": "code",
   "execution_count": null,
   "id": "60cd9a65",
   "metadata": {},
   "outputs": [],
   "source": [
    "def resource_bundle_to_file(api_base, resource_type, url_suffix=None):\n",
    "    json_response = get_bundle_as_raw_json(api_base, resource_type, url_suffix)\n",
    "    file_number = 0\n",
    "    with open(f'data/{resource_type}_bundle_{file_number}.json','w') as f:\n",
    "        json.dump(json_response, f, indent=2)\n",
    "    # follow \"next\" links - this might makes lots of requests depending on how much data the server has\n",
    "#     json_response = get_next_bundle_as_raw_json(json_response)\n",
    "#     while json_response is not None:\n",
    "#         file_number += 1\n",
    "#         with open(f'data/{resource_type}_bundle_{file_count}.json','w') as f:\n",
    "#             json.dump(json_response, f, indent=2)"
   ]
  },
  {
   "cell_type": "code",
   "execution_count": null,
   "id": "dea90ab7",
   "metadata": {},
   "outputs": [
    {
     "name": "stdout",
     "output_type": "stream",
     "text": [
      "GET http://hapi.fhir.org/baseR4/Patient?name=RWD-Vulcan\n",
      "GET http://hapi.fhir.org/baseR4/MedicationRequest\n",
      "GET http://hapi.fhir.org/baseR4/MedicationDispense\n",
      "GET http://hapi.fhir.org/baseR4/MedicationAdministration\n",
      "GET http://hapi.fhir.org/baseR4/MedicationStatement\n"
     ]
    }
   ],
   "source": [
    "if not IN_COLAB: # remove this line if you want to save files in colab\n",
    "    Path('data').mkdir(exist_ok=True)\n",
    "    for resource_type, url_suffix in [\n",
    "            ['Patient','?name=RWD-Vulcan'],\n",
    "            ['MedicationRequest',None],\n",
    "            ['MedicationDispense',None],\n",
    "            ['MedicationAdministration',None],\n",
    "            ['MedicationStatement',None]]:\n",
    "        resource_bundle_to_file(settings['api_base'], resource_type, url_suffix)"
   ]
  },
  {
   "cell_type": "code",
   "execution_count": null,
   "id": "d3d1a81d",
   "metadata": {},
   "outputs": [],
   "source": [
    "def load_from_json(resource_type, file_number=0):    \n",
    "    with open(f'data/{resource_type}_bundle_{file_number}.json') as f:\n",
    "        return json.load(f)\n",
    "    \n",
    "def load_bundle(resource_type, file_number=0):    \n",
    "    return Bundle(load_from_json(resource_type, file_number))\n",
    "\n",
    "def convert_json_bundle_to_list_of_resources(json_bundle, resource_type):\n",
    "    result = []\n",
    "    for entry in json_bundle['entry']:\n",
    "        result.append(resource_type(entry), False)\n",
    "    return result"
   ]
  },
  {
   "cell_type": "markdown",
   "id": "9266c2f9",
   "metadata": {},
   "source": [
    "The following cells show how the functions above work and/or fail with validation errors"
   ]
  },
  {
   "cell_type": "code",
   "execution_count": null,
   "id": "4c1a1164",
   "metadata": {},
   "outputs": [],
   "source": [
    "# convert_json_bundle_to_list_of_resources(load_from_json('MedicationRequest'), MedicationRequest)"
   ]
  },
  {
   "cell_type": "code",
   "execution_count": null,
   "id": "9f9b195e",
   "metadata": {},
   "outputs": [],
   "source": [
    "# load_from_json('MedicationRequest') # return py dict"
   ]
  },
  {
   "cell_type": "code",
   "execution_count": null,
   "id": "d4307597",
   "metadata": {},
   "outputs": [],
   "source": [
    "# load_bundle('MedicationRequest').entry[0].resource.as_json() # probably fails validation"
   ]
  },
  {
   "cell_type": "markdown",
   "id": "0c2b9817",
   "metadata": {},
   "source": [
    "### Can we use the \"RWD-Vulcan\" data?\n",
    "\n",
    "It would be great if we had examples of patients with all kinds of Medication* resources but ...\n",
    "\n",
    "it looks like we have patients with MedicationStatement &darr; (i.e. no other Medication* resources)"
   ]
  },
  {
   "cell_type": "code",
   "execution_count": null,
   "id": "dda839b3",
   "metadata": {},
   "outputs": [
    {
     "data": {
      "text/plain": [
       "Counter({'Patient': 10, 'MedicationStatement': 179})"
      ]
     },
     "execution_count": null,
     "metadata": {},
     "output_type": "execute_result"
    }
   ],
   "source": [
    "search=Patient.where({'name': 'RWD-Vulcan'})\n",
    "search = search.include('subject', MedicationStatement, reverse=True)\n",
    "# search = search.include('subject', MedicationRequest, reverse=True) # -> Counter({'Patient': 10})\n",
    "list_of_resources = search.perform_resources(smart.server)\n",
    "Counter([r.__class__.__name__ for r in list_of_resources])"
   ]
  },
  {
   "cell_type": "markdown",
   "id": "744e2803",
   "metadata": {},
   "source": [
    "### Patient bundle will all medication types\n",
    "\n",
    "I created a single patient bundle with one of each medication type to help testing/demo later https://raw.githubusercontent.com/pete88b/smart-on-fhir-client-py-demo/main/patient-bundle-with-all-med-types.json\n",
    "\n",
    "This data probable doesn't make sense together as the request, dispense and administration resources are copied from different subjects."
   ]
  },
  {
   "cell_type": "markdown",
   "id": "bf23b0c3",
   "metadata": {},
   "source": [
    "### Should we create FHIR bundles with the python client?\n",
    "\n",
    "&darr; this is problematic as lots of resources fail validation ..."
   ]
  },
  {
   "cell_type": "code",
   "execution_count": null,
   "id": "b4e7cd32",
   "metadata": {},
   "outputs": [
    {
     "data": {
      "text/plain": [
       "{'entry': [{'resource': {'id': '1733210',\n",
       "    'meta': {'lastUpdated': '2021-01-11T21:09:19.051+00:00',\n",
       "     'source': '#MYi0ZdRYytOrGkxj',\n",
       "     'versionId': '1'},\n",
       "    'dosage': [{'doseAndRate': [{'doseQuantity': {'value': 90.0}}]}],\n",
       "    'effectivePeriod': {'start': '2010-08-29T00:00:00+00:00'},\n",
       "    'identifier': [{'value': 'rwd-MedicationStatement-5'}],\n",
       "    'medicationCodeableConcept': {'coding': [{'code': '197392',\n",
       "       'display': 'Baclofen 20 MG Oral Tablet',\n",
       "       'system': 'http://www.nlm.nih.gov/research/umls/rxnorm'}]},\n",
       "    'status': 'active',\n",
       "    'subject': {'reference': 'Patient/1732972'},\n",
       "    'resourceType': 'MedicationStatement'}}],\n",
       " 'timestamp': '2021-08-06T10:36:10Z',\n",
       " 'type': 'collection',\n",
       " 'resourceType': 'Bundle'}"
      ]
     },
     "execution_count": null,
     "metadata": {},
     "output_type": "execute_result"
    }
   ],
   "source": [
    "bundle = Bundle()\n",
    "# not sure it makes sense to populate id or identifier as we're just using list as a container\n",
    "bundle.type = 'collection'\n",
    "bundle.timestamp = FHIRDate(datetime.utcnow().strftime('%Y-%m-%dT%H:%M:%SZ'))\n",
    "bundle.entry = []\n",
    "# lots of MedicationStatement resources pass validation\n",
    "bundle.entry.append(BundleEntry())\n",
    "bundle.entry[-1].resource = MedicationStatement.read('1733210', smart.server)\n",
    "# but ... most MedicationRequest resources fail\n",
    "# for resource in MedicationRequest.where({}).perform_resources(smart.server):\n",
    "#     bundle.entry.append(BundleEntry())\n",
    "#     bundle.entry[-1].resource = resource\n",
    "bundle.as_json()"
   ]
  },
  {
   "cell_type": "markdown",
   "id": "8770fbc3",
   "metadata": {},
   "source": [
    "## What would it look like if we work with py dictionaries instead ...\n",
    "\n",
    "if our taget type is the same as the source type, we could copy the entry list into the target ... but we might want to remove `fullUrl` and just keep resources"
   ]
  },
  {
   "cell_type": "code",
   "execution_count": null,
   "id": "3e0aaab9",
   "metadata": {},
   "outputs": [
    {
     "name": "stdout",
     "output_type": "stream",
     "text": [
      "GET http://hapi.fhir.org/baseR4/MedicationRequest\n"
     ]
    }
   ],
   "source": [
    "bundle = dict(resourceType='Bundle', \n",
    "              type='collection', \n",
    "              timestamp=datetime.utcnow().strftime('%Y-%m-%dT%H:%M:%SZ'), \n",
    "              entry=[])\n",
    "bundle['entry'].extend(get_bundle_as_raw_json(settings['api_base'],'MedicationRequest')['entry'])"
   ]
  },
  {
   "cell_type": "markdown",
   "id": "d32820cc",
   "metadata": {},
   "source": [
    "uncomment and run the following cell if you want to see the bundle we just created"
   ]
  },
  {
   "cell_type": "code",
   "execution_count": null,
   "id": "8feed840",
   "metadata": {},
   "outputs": [],
   "source": [
    "# bundle"
   ]
  },
  {
   "cell_type": "markdown",
   "id": "249c7c67",
   "metadata": {},
   "source": [
    "### Helper functions to map between different resource types"
   ]
  },
  {
   "cell_type": "code",
   "execution_count": null,
   "id": "3d619d42",
   "metadata": {},
   "outputs": [],
   "source": [
    "def pull_attr(resouce,attr_path):\n",
    "    \"Pull a value from `resource` if we can find the attribute specified\"\n",
    "    for _attr_path in attr_path.split(' OR '):\n",
    "        r,found=resouce,True\n",
    "        for _attr in _attr_path.split('.'):\n",
    "            if _attr not in r: \n",
    "                found=False; break\n",
    "            r=r[_attr]\n",
    "        if found: return r"
   ]
  },
  {
   "cell_type": "code",
   "execution_count": null,
   "id": "b10d9d91",
   "metadata": {},
   "outputs": [],
   "source": [
    "def transform(resource,mapping):\n",
    "    \"Pull data from `resource` to create a new instance using `mapping`\"\n",
    "    result={}\n",
    "    for k in mapping:\n",
    "        attr=pull_attr(resource,mapping[k])\n",
    "        if attr is not None: result[k]=attr\n",
    "    return result"
   ]
  },
  {
   "cell_type": "markdown",
   "id": "5cd8e238",
   "metadata": {},
   "source": [
    "## Map medication request to medication statement\n",
    "\n",
    "The keys of `medication_request_to_medication_statement` are medication statement attributes, its values are medication request attributes."
   ]
  },
  {
   "cell_type": "code",
   "execution_count": null,
   "id": "552757ad",
   "metadata": {},
   "outputs": [],
   "source": [
    "medication_request_to_medication_statement=dict(\n",
    "    id='id', meta='meta', implicitRules='implicitRules', language='language', text='text', contained='contained', extension='extension', modifierExtension='modifierExtension',\n",
    "    identifier='identifier',\n",
    "#     basedOn='id', #TODO: make this a reference\n",
    "    partOf='partOf',\n",
    "    status='status',\n",
    "    statusReason='statusReason',\n",
    "    category='category',\n",
    "    medicationCodeableConcept='medicationCodeableConcept',\n",
    "    medicationReference='medicationReference',\n",
    "    subject='subject',\n",
    "    context='encounter',\n",
    "#     effectiveDateTime                         # might be better to leave this blank as we have dosage\n",
    "    effectivePeriod='dosageInstruction.timing', # might be better to leave this blank as we have dosage\n",
    "    dateAsserted='authoredOn',\n",
    "    informationSource='requester',\n",
    "#     derivedFrom='id', #TODO: make this a reference\n",
    "    reasonCode='reasonCode',\n",
    "    reasonReference='reasonReference',\n",
    "    note='note',\n",
    "    dosage='dosageInstruction'\n",
    ")"
   ]
  },
  {
   "cell_type": "code",
   "execution_count": null,
   "id": "656c702e",
   "metadata": {},
   "outputs": [],
   "source": [
    "def transform_medication_request_to_medication_statement(resource):\n",
    "    result=transform(resource, medication_request_to_medication_statement)\n",
    "    # TODO: use absolute URL\n",
    "    # if we had a bundle entry (not jsut a medication request) we could use fullUrl\n",
    "    result['basedOn']=result['derivedFrom']=[dict(reference=f'MedicationRequest/{resource[\"id\"]}')]\n",
    "    result['resourceType']='MedicationStatement'\n",
    "    return result"
   ]
  },
  {
   "cell_type": "markdown",
   "id": "38764d67",
   "metadata": {},
   "source": [
    "Read a MedicationRequest that we can test with &darr;"
   ]
  },
  {
   "cell_type": "code",
   "execution_count": null,
   "id": "92fc6c07",
   "metadata": {},
   "outputs": [],
   "source": [
    "# we can pull a request out of a bundle ...\n",
    "# medication_request = get_bundle_as_raw_json(settings['api_base'],'MedicationRequest')['entry'][1]['resource']\n",
    "# ... or read a request by ID\n",
    "medication_request = MedicationRequest.read('1465875', smart.server).as_json()"
   ]
  },
  {
   "cell_type": "markdown",
   "id": "b488fed2",
   "metadata": {},
   "source": [
    "### Show how `transform` works\n",
    "\n",
    "We can create a `MedicationStatement` like instance from a `MedicationRequest` by copying fields from request to statement using `medication_request_to_medication_statement` \n",
    "\n",
    "Note: the result of this basic transform will be missing `derivedFrom` etc"
   ]
  },
  {
   "cell_type": "code",
   "execution_count": null,
   "id": "c0a9fbfa",
   "metadata": {},
   "outputs": [
    {
     "data": {
      "text/plain": [
       "{'display': 'Peter James Chalmers', 'reference': 'Patient/1293520'}"
      ]
     },
     "execution_count": null,
     "metadata": {},
     "output_type": "execute_result"
    }
   ],
   "source": [
    "tfm = transform(medication_request, medication_request_to_medication_statement)\n",
    "tfm['subject']"
   ]
  },
  {
   "cell_type": "markdown",
   "id": "20b9ba7d",
   "metadata": {},
   "source": [
    "To populate all fields, we need to transform using `transform_medication_request_to_medication_statement`"
   ]
  },
  {
   "cell_type": "code",
   "execution_count": null,
   "id": "4d9d9e61",
   "metadata": {},
   "outputs": [
    {
     "data": {
      "text/plain": [
       "{'display': 'Peter James Chalmers', 'reference': 'Patient/1293520'}"
      ]
     },
     "execution_count": null,
     "metadata": {},
     "output_type": "execute_result"
    }
   ],
   "source": [
    "tfm = transform_medication_request_to_medication_statement(medication_request)\n",
    "tfm['subject']"
   ]
  },
  {
   "cell_type": "markdown",
   "id": "dd9a8555",
   "metadata": {},
   "source": [
    "We should be able to use this dictionary to create a MedicationStatement that passes validation.\n",
    "\n",
    "Note: Calling `as_json` on the `MedicationStatement` causes validation to be run"
   ]
  },
  {
   "cell_type": "code",
   "execution_count": null,
   "id": "1684d2ca",
   "metadata": {},
   "outputs": [
    {
     "data": {
      "text/plain": [
       "\"{'id': '1465875', 'meta': {'lastUpdated': '2021-08-04T13:54:11.507+00:00', 'source': '#TuNVIftMM8wZB\""
      ]
     },
     "execution_count": null,
     "metadata": {},
     "output_type": "execute_result"
    }
   ],
   "source": [
    "str(MedicationStatement(tfm).as_json())[:100]"
   ]
  },
  {
   "cell_type": "markdown",
   "id": "4869e603",
   "metadata": {},
   "source": [
    "If you'd like to see the full JSON of the test medication request of the medication statement that we created, uncomment and run the following cells.\n",
    "\n",
    "Note: `tfm` and `MedicationStatement(tfm).as_json()` should show us the same content - but fields might be ordered differently."
   ]
  },
  {
   "cell_type": "code",
   "execution_count": null,
   "id": "98fc4d85",
   "metadata": {},
   "outputs": [],
   "source": [
    "# medication_request"
   ]
  },
  {
   "cell_type": "code",
   "execution_count": null,
   "id": "6a9707d7",
   "metadata": {},
   "outputs": [],
   "source": [
    "# tfm\n",
    "# MedicationStatement(tfm).as_json()"
   ]
  },
  {
   "cell_type": "markdown",
   "id": "cfda0554",
   "metadata": {},
   "source": [
    "## Convert a bundle of MedicationRequest to a bundle of MedicationStatement\n",
    "\n",
    "we need a few more helper functions &darr;"
   ]
  },
  {
   "cell_type": "code",
   "execution_count": null,
   "id": "519a2ad1",
   "metadata": {},
   "outputs": [],
   "source": [
    "def new_bundle():\n",
    "    return dict(resourceType='Bundle', \n",
    "                type='collection', \n",
    "                timestamp=datetime.utcnow().strftime('%Y-%m-%dT%H:%M:%SZ'), \n",
    "                entry=[])\n",
    "\n",
    "def add_entry(bundle, resource, full_url=None):\n",
    "    entry = dict(resource=resource)\n",
    "    if full_url is not None: entry['fullUrl'] = full_url\n",
    "    bundle['entry'].append(entry)"
   ]
  },
  {
   "cell_type": "code",
   "execution_count": null,
   "id": "daec3fad",
   "metadata": {},
   "outputs": [],
   "source": [
    "def pull_resources_from_bundle(bundle):\n",
    "    return [entry['resource'] for entry in bundle['entry']]"
   ]
  },
  {
   "cell_type": "markdown",
   "id": "818ecb19",
   "metadata": {},
   "source": [
    "now we can create a bundle of `MedicationStatement`s from a bundle of `MedicationRequest`s"
   ]
  },
  {
   "cell_type": "code",
   "execution_count": null,
   "id": "e604174e",
   "metadata": {},
   "outputs": [
    {
     "name": "stdout",
     "output_type": "stream",
     "text": [
      "GET http://hapi.fhir.org/baseR4/MedicationRequest\n"
     ]
    }
   ],
   "source": [
    "bundle = new_bundle()\n",
    "resources = pull_resources_from_bundle(get_bundle_as_raw_json(settings['api_base'], 'MedicationRequest'))\n",
    "for r in [transform_medication_request_to_medication_statement(r) for r in resources]:\n",
    "    add_entry(bundle, r)"
   ]
  },
  {
   "cell_type": "markdown",
   "id": "3c4f32c4",
   "metadata": {},
   "source": [
    "uncomment and run the following cell if you want to see the bundle we just created"
   ]
  },
  {
   "cell_type": "code",
   "execution_count": null,
   "id": "9b7d9d74",
   "metadata": {},
   "outputs": [],
   "source": [
    "# bundle"
   ]
  },
  {
   "cell_type": "markdown",
   "id": "694eb380",
   "metadata": {},
   "source": [
    "## Map medication dispense to medication statement"
   ]
  },
  {
   "cell_type": "code",
   "execution_count": null,
   "id": "56cea362",
   "metadata": {},
   "outputs": [],
   "source": [
    "medication_dispense_to_medication_statement=dict(\n",
    "    id='id', meta='meta', implicitRules='implicitRules', language='language', text='text', contained='contained', extension='extension', modifierExtension='modifierExtension',\n",
    "    identifier='identifier',\n",
    "    basedOn='authorizingPrescription',\n",
    "    partOf='partOf',\n",
    "    status='status',\n",
    "    statusReason='statusReason',\n",
    "    category='category',\n",
    "    medicationCodeableConcept='medicationCodeableConcept',\n",
    "    medicationReference='medicationReference',\n",
    "    subject='subject',\n",
    "    context='context',\n",
    "#     effectiveDateTime                         # might be better to leave this blank as we have dosage\n",
    "    effectivePeriod='dosageInstruction.timing', # might be better to leave this blank as we have dosage\n",
    "    #     dateAsserted # pull from event history?\n",
    "    informationSource='performer',\n",
    "#     derivedFrom='id', #TODO: make this a reference\n",
    "#     reasonCode\n",
    "#     reasonReference\n",
    "    note='note',\n",
    "    dosage='dosageInstruction'\n",
    ")"
   ]
  },
  {
   "cell_type": "code",
   "execution_count": null,
   "id": "491ac634",
   "metadata": {},
   "outputs": [],
   "source": [
    "def transform_medication_dispense_to_medication_statement(resource):\n",
    "    result=transform(resource, medication_dispense_to_medication_statement)\n",
    "    # TODO: use absolute URL\n",
    "    # if we had a bundle entry (not jsut a medication request) we could use fullUrl\n",
    "    result['derivedFrom']=[dict(reference=f'MedicationDispense/{resource[\"id\"]}')]\n",
    "    if 'basedOn' in result and not isinstance(result['basedOn'],list):\n",
    "        result['basedOn']=[result['basedOn']]\n",
    "    result['resourceType']='MedicationStatement'\n",
    "    return result"
   ]
  },
  {
   "cell_type": "markdown",
   "id": "7ab3acf8",
   "metadata": {},
   "source": [
    "## Map medication administration dosage to dosage"
   ]
  },
  {
   "cell_type": "code",
   "execution_count": null,
   "id": "09166760",
   "metadata": {},
   "outputs": [],
   "source": [
    "medication_administration_dose_to_dose=dict(\n",
    "    text='text',\n",
    "    site='site',\n",
    "    route='route',\n",
    "    method='method',\n",
    "    doseQuantity='dose',\n",
    "    rateRatio='rateRatio',\n",
    "    rateQuantity='rateQuantity'\n",
    ")"
   ]
  },
  {
   "cell_type": "markdown",
   "id": "b8b3c5ad",
   "metadata": {},
   "source": [
    "## Map medication administration to medication statement"
   ]
  },
  {
   "cell_type": "code",
   "execution_count": null,
   "id": "a24953e5",
   "metadata": {},
   "outputs": [],
   "source": [
    "medication_administration_to_medication_statement=dict(\n",
    "    id='id', meta='meta', implicitRules='implicitRules', language='language', text='text', contained='contained', extension='extension', modifierExtension='modifierExtension',\n",
    "    identifier='identifier',\n",
    "    basedOn='request',\n",
    "    partOf='partOf',\n",
    "    status='status',\n",
    "    statusReason='statusReason',\n",
    "    category='category',\n",
    "    medicationCodeableConcept='medicationCodeableConcept',\n",
    "    medicationReference='medicationReference',\n",
    "    subject='subject',\n",
    "    context='context',\n",
    "    effectiveDateTime='effectiveDateTime',\n",
    "    effectivePeriod='effectivePeriod',\n",
    "#     dateAsserted # pull from event history?\n",
    "    informationSource='performer',\n",
    "#     derivedFrom='id', #TODO: make this a reference\n",
    "#     reasonCode\n",
    "    reasonReference='reasonReference',\n",
    "    note='note',\n",
    "#     dosage='dosage' # need to map MedicationAdministrationDosage to Dosage\n",
    ")"
   ]
  },
  {
   "cell_type": "code",
   "execution_count": null,
   "id": "6e79d43c",
   "metadata": {},
   "outputs": [],
   "source": [
    "def transform_medication_administration_to_medication_statement(resource):\n",
    "    result = transform(resource, medication_administration_to_medication_statement)\n",
    "    if 'dosage' in result:\n",
    "        result['dosage'] = [transform(result['dosage'], medication_administration_dose_to_dose)]\n",
    "    # TODO: use absolute URL\n",
    "    # if we had a bundle entry (not jsut a medication request) we could use fullUrl\n",
    "    result['derivedFrom']=[dict(reference=f'MedicationAdministration/{resource[\"id\"]}')]\n",
    "    if 'basedOn' in result and not isinstance(result['basedOn'],list):\n",
    "        result['basedOn']=[result['basedOn']]\n",
    "    result['resourceType']='MedicationStatement'\n",
    "    return result"
   ]
  },
  {
   "cell_type": "markdown",
   "id": "dbdd3832",
   "metadata": {},
   "source": [
    "put all of the transform functions into a dictionary &darr; to make the simpify creation of the next bundle"
   ]
  },
  {
   "cell_type": "code",
   "execution_count": null,
   "id": "db90d332",
   "metadata": {},
   "outputs": [],
   "source": [
    "to_medication_statement_functions = dict(\n",
    "    MedicationAdministration=transform_medication_administration_to_medication_statement,\n",
    "    MedicationDispense=transform_medication_dispense_to_medication_statement,\n",
    "    MedicationRequest=transform_medication_request_to_medication_statement,\n",
    "    MedicationStatement=lambda r: r # do nothing for statement\n",
    ")"
   ]
  },
  {
   "cell_type": "markdown",
   "id": "a8e7ffdd",
   "metadata": {},
   "source": [
    "# Create a `Bundle` after mapping `MedicationAdministration`, `MedicationDispense` and `MedicationRequest` to `MedicationStatement`\n",
    "\n",
    "The following cell \n",
    "- reads all 4 Medication* resources,\n",
    "- converts them to `MedicationStatement` and\n",
    "- puts them all in the same bundle\n",
    "\n",
    "Note: We're reading/combining medication resources for multiple subjects to \n",
    "- show that we could do this if we wanted to\n",
    "- and to explore a random-ish selection of data - to help understand the kind of resource validation errors we might have to deal with"
   ]
  },
  {
   "cell_type": "code",
   "execution_count": null,
   "id": "3843931f",
   "metadata": {},
   "outputs": [
    {
     "name": "stdout",
     "output_type": "stream",
     "text": [
      "GET http://hapi.fhir.org/baseR4/MedicationAdministration\n",
      "GET http://hapi.fhir.org/baseR4/MedicationDispense\n",
      "GET http://hapi.fhir.org/baseR4/MedicationRequest\n",
      "GET http://hapi.fhir.org/baseR4/MedicationStatement\n"
     ]
    }
   ],
   "source": [
    "bundle = new_bundle()\n",
    "for resource_type in to_medication_statement_functions: \n",
    "    resources = pull_resources_from_bundle(get_bundle_as_raw_json(settings['api_base'], resource_type))\n",
    "    for r in [to_medication_statement_functions[resource_type](r) for r in resources]:\n",
    "        add_entry(bundle, r)"
   ]
  },
  {
   "cell_type": "markdown",
   "id": "7bfe8024",
   "metadata": {},
   "source": [
    "uncomment and run the following cell if you want to see the bundle we just created"
   ]
  },
  {
   "cell_type": "code",
   "execution_count": null,
   "id": "968954d0",
   "metadata": {},
   "outputs": [],
   "source": [
    "# bundle"
   ]
  },
  {
   "cell_type": "markdown",
   "id": "f58cdce1",
   "metadata": {},
   "source": [
    "## Have we made a valid bundle?\n",
    "\n",
    "We can use the python client to validate the bundle we just created with: `Bundle(bundle)` but ...\n",
    "\n",
    "we have entries with missing mandatory fields (like mesication* and subject) - the next cell removes these invalid resources from the bundle"
   ]
  },
  {
   "cell_type": "code",
   "execution_count": null,
   "id": "91234f1b",
   "metadata": {},
   "outputs": [],
   "source": [
    "bundle['entry']=[e for e in bundle['entry'] if \n",
    "                 'medicationCodeableConcept' in e['resource'] or\n",
    "                 'medicationReference' in e['resource']]\n",
    "\n",
    "bundle['entry']=[e for e in bundle['entry'] if \n",
    "                 'subject' in e['resource']]"
   ]
  },
  {
   "cell_type": "code",
   "execution_count": null,
   "id": "e8d0b2a4",
   "metadata": {},
   "outputs": [],
   "source": [
    "# we can use this kind of code to find and look at invalid resources\n",
    "# for i, e in enumerate(bundle['entry']):\n",
    "#     r = e['resource']\n",
    "#     if 'medicationCodeableConcept' not in r and 'medicationReference' not in r:\n",
    "#         print(i,r)"
   ]
  },
  {
   "cell_type": "code",
   "execution_count": null,
   "id": "3bc0f0f1",
   "metadata": {},
   "outputs": [
    {
     "name": "stderr",
     "output_type": "stream",
     "text": [
      "entry.10:\n",
      "  resource:\n",
      "    informationSource.0:\n",
      "      Superfluous entry \"function\" in data for <fhirclient.models.fhirreference.FHIRReference object at 0x000001628FABAF40>\n",
      "      Superfluous entry \"actor\" in data for <fhirclient.models.fhirreference.FHIRReference object at 0x000001628FABAF40>\n"
     ]
    },
    {
     "data": {
      "text/plain": [
       "<fhirclient.models.bundle.Bundle at 0x1628f9ce160>"
      ]
     },
     "execution_count": null,
     "metadata": {},
     "output_type": "execute_result"
    }
   ],
   "source": [
    "# now that the invalid resources are removed, we should see just a few warnings\n",
    "Bundle(bundle, False)"
   ]
  },
  {
   "cell_type": "code",
   "execution_count": null,
   "id": "e0364516",
   "metadata": {},
   "outputs": [
    {
     "data": {
      "text/plain": [
       "[{'function': {'coding': [{'system': 'http://www.nlm.nih.gov/research/umls/rxnorm',\n",
       "     'code': '285018',\n",
       "     'display': 'Lantus 100 unit/ml injectable solution'}]},\n",
       "  'actor': {'reference': 'RelatedPerson/248511'}}]"
      ]
     },
     "execution_count": null,
     "metadata": {},
     "output_type": "execute_result"
    }
   ],
   "source": [
    "# here's the informationSource part of the resource that caused the warnings above\n",
    "bundle['entry'][10]['resource']['informationSource']"
   ]
  },
  {
   "cell_type": "markdown",
   "id": "703c4f0c",
   "metadata": {},
   "source": [
    "# Transform per-subject bundle of medication resources\n",
    "\n",
    "The following function \n",
    "- takes a bundle optionally containing a subject and any number of Medication* resources and\n",
    "- returns a bundle containing the same entries after transforming all Medication* resources to MedicationStatement"
   ]
  },
  {
   "cell_type": "code",
   "execution_count": null,
   "id": "1079a2a4",
   "metadata": {},
   "outputs": [],
   "source": [
    "def transform_bundle_to_medication_statement(bundle):\n",
    "    # we'll transform admin, dispense and request - but leave everything else alone\n",
    "    transform_functions = dict(\n",
    "        MedicationAdministration=transform_medication_administration_to_medication_statement,\n",
    "        MedicationDispense=transform_medication_dispense_to_medication_statement,\n",
    "        MedicationRequest=transform_medication_request_to_medication_statement)\n",
    "    result = new_bundle()\n",
    "    resources = pull_resources_from_bundle(bundle)\n",
    "    for resource in resources:\n",
    "        transform_function = transform_functions.get(resource['resourceType'], None)\n",
    "        add_entry(result, resource if transform_function is None else transform_function(resource))\n",
    "    return result"
   ]
  },
  {
   "cell_type": "markdown",
   "id": "a3bff948",
   "metadata": {},
   "source": [
    "If we can query a subject and get back all medication resources, we could do something like &darr;"
   ]
  },
  {
   "cell_type": "code",
   "execution_count": null,
   "id": "50ae970e",
   "metadata": {},
   "outputs": [
    {
     "name": "stdout",
     "output_type": "stream",
     "text": [
      "GET http://hapi.fhir.org/baseR4/Patient?_id=1732972&_revinclude=%2A\n"
     ]
    }
   ],
   "source": [
    "bundle_in = get_bundle_as_raw_json(settings['api_base'], 'Patient', '?_id=1732972&_revinclude=%2A')\n",
    "# bundle_in should give us a bundle containing one patient and some MedicationStatements\n",
    "# so we're not really doing any transformations\n",
    "transformed_bundle = transform_bundle_to_medication_statement(bundle_in)"
   ]
  },
  {
   "cell_type": "markdown",
   "id": "a5cc85ac",
   "metadata": {},
   "source": [
    "uncomment and run the following cell if you want to see the bundle we just created"
   ]
  },
  {
   "cell_type": "code",
   "execution_count": null,
   "id": "95b488b3",
   "metadata": {},
   "outputs": [],
   "source": [
    "# transformed_bundle"
   ]
  },
  {
   "cell_type": "markdown",
   "id": "634413b3",
   "metadata": {},
   "source": [
    "the following example uses the patient bundle will all medication types so we will need to do some transformations"
   ]
  },
  {
   "cell_type": "code",
   "execution_count": null,
   "id": "9e1248d7",
   "metadata": {},
   "outputs": [],
   "source": [
    "url = 'https://raw.githubusercontent.com/pete88b/smart-on-fhir-client-py-demo/main/patient-bundle-with-all-med-types.json'\n",
    "bundle_in = requests.get(url).json()\n",
    "# with open('patient-bundle-with-all-med-types.json') as f:\n",
    "#     bundle_in = json.load(f)\n",
    "transformed_bundle = transform_bundle_to_medication_statement(bundle_in)"
   ]
  },
  {
   "cell_type": "markdown",
   "id": "71ff3742",
   "metadata": {},
   "source": [
    "save the bundle we just created to file\n",
    "\n",
    "Note: you can download this file via the file explorer in colab"
   ]
  },
  {
   "cell_type": "code",
   "execution_count": null,
   "id": "d60830b4",
   "metadata": {},
   "outputs": [],
   "source": [
    "Path('data').mkdir(exist_ok=True)\n",
    "with open('data/transformed-patient-bundle-with-all-med-types.json', 'w') as f:\n",
    "    json.dump(transformed_bundle, f, indent=2)"
   ]
  },
  {
   "cell_type": "markdown",
   "id": "a7ed2881",
   "metadata": {},
   "source": [
    "uncomment and run the following cell if you want to see the bundle we just created"
   ]
  },
  {
   "cell_type": "code",
   "execution_count": null,
   "id": "68248f91",
   "metadata": {},
   "outputs": [
    {
     "data": {
      "text/plain": [
       "{'resourceType': 'Bundle',\n",
       " 'type': 'collection',\n",
       " 'timestamp': '2021-08-06T10:36:13Z',\n",
       " 'entry': [{'resource': {'resourceType': 'Patient',\n",
       "    'id': '1732972',\n",
       "    'meta': {'versionId': '3',\n",
       "     'lastUpdated': '2021-01-11T18:49:23.925+00:00',\n",
       "     'source': '#eil5EiWeZudqovsF'},\n",
       "    'text': {'status': 'generated',\n",
       "     'div': '<div xmlns=\"http://www.w3.org/1999/xhtml\"><div class=\"hapiHeaderText\">One <b>RWD-VULCAN-ONE </b></div><table class=\"hapiPropertyTable\"><tbody><tr><td>Identifier</td><td>00013D2EFD8E45D1</td></tr><tr><td>Address</td><td><span>MO </span></td></tr><tr><td>Date of birth</td><td><span>01 May 1923</span></td></tr></tbody></table></div>'},\n",
       "    'identifier': [{'value': '00013D2EFD8E45D1'}],\n",
       "    'active': True,\n",
       "    'name': [{'family': 'Rwd-Vulcan-One', 'given': ['One']}],\n",
       "    'gender': 'male',\n",
       "    'birthDate': '1923-05-01',\n",
       "    'address': [{'use': 'home', 'state': 'MO'}]}},\n",
       "  {'resource': {'resourceType': 'MedicationStatement',\n",
       "    'id': '1733210',\n",
       "    'meta': {'versionId': '1',\n",
       "     'lastUpdated': '2021-01-11T21:09:19.051+00:00',\n",
       "     'source': '#MYi0ZdRYytOrGkxj'},\n",
       "    'identifier': [{'value': 'rwd-MedicationStatement-5'}],\n",
       "    'status': 'active',\n",
       "    'medicationCodeableConcept': {'coding': [{'system': 'http://www.nlm.nih.gov/research/umls/rxnorm',\n",
       "       'code': '197392',\n",
       "       'display': 'Baclofen 20 MG Oral Tablet'}]},\n",
       "    'subject': {'reference': 'Patient/1732972'},\n",
       "    'effectivePeriod': {'start': '2010-08-29T00:00:00+00:00'},\n",
       "    'dosage': [{'doseAndRate': [{'doseQuantity': {'value': 90.0}}]}]}},\n",
       "  {'resource': {'id': '1389716',\n",
       "    'meta': {'versionId': '1',\n",
       "     'lastUpdated': '2020-07-13T15:37:57.331+00:00',\n",
       "     'source': '#QfAHihiHoVGEqVrb'},\n",
       "    'text': {'status': 'generated',\n",
       "     'div': '<div xmlns=\"http://www.w3.org/1999/xhtml\"><p> <b> Generated Narrative with Details</b> </p> <p> <b> id</b> : medadminexample03</p> <p> <b> contained</b> : </p> <p> <b> status</b> : on-hold</p> <p> <b> statusReason</b> : Administration of medication not done due to a contraindication (situation) <span> (Details : {SNOMED CT code \\'373147003\\' = \\'Medication not administered because contraindicated\\',\\n           given as \\'Administration of medication not done due to a contraindication (situation)\\'})</span> </p> <p> <b> medication</b> : id: med0303; Alemtuzumab 10mg/ml (Lemtrada) <span> (Details : {RxNorm code \\'1594660\\' = \\'alemtuzumab 10 MG/ML [Lemtrada]\\', given as \\'Alemtuzumab\\n           10mg/ml (Lemtrada)\\'})</span> </p> <p> <b> subject</b> : <a> Donald Duck</a> </p> <p> <b> context</b> : <a> Encounter/f001</a> </p> <p> <b> supportingInformation</b> : <a> Condition/f204</a> </p> <p> <b> effective</b> : 15/01/2015 2:30:00 PM --&gt; 15/01/2015 2:30:00 PM</p> <p> <b> request</b> : <a> MedicationRequest/medrx0317</a> </p> <p> <b> note</b> : Patient started Bupropion this morning - will administer in a reduced dose tomorrow</p> </div>'},\n",
       "    'status': 'on-hold',\n",
       "    'statusReason': [{'coding': [{'system': 'http://snomed.info/sct',\n",
       "        'code': '373147003',\n",
       "        'display': 'Administration of medication not done due to a contraindication (situation)'}]}],\n",
       "    'subject': {'reference': 'Patient/1732972'},\n",
       "    'note': [{'text': 'Patient started Bupropion this morning - will administer in a reduced dose tomorrow'}],\n",
       "    'derivedFrom': [{'reference': 'MedicationAdministration/1389716'}],\n",
       "    'resourceType': 'MedicationStatement'}},\n",
       "  {'resource': {'id': '2393314',\n",
       "    'meta': {'versionId': '1',\n",
       "     'lastUpdated': '2021-07-14T06:58:08.702+00:00',\n",
       "     'source': '#r1DZTKVmWboWPPZs'},\n",
       "    'identifier': [{'system': 'https://kpininja.com/identifier',\n",
       "      'value': 'eea66d78-70bf-482c-8c82-63d58912bfcb'}],\n",
       "    'status': 'completed',\n",
       "    'medicationCodeableConcept': {'coding': [{'system': 'urn:oid:'},\n",
       "      {'system': 'urn:oid:'}]},\n",
       "    'subject': {'reference': 'Patient/1732972'},\n",
       "    'derivedFrom': [{'reference': 'MedicationDispense/2393314'}],\n",
       "    'resourceType': 'MedicationStatement'}},\n",
       "  {'resource': {'id': '2501364',\n",
       "    'meta': {'versionId': '1',\n",
       "     'lastUpdated': '2021-08-05T07:58:49.375+00:00',\n",
       "     'source': '#ngksFAwarUPjLyUL'},\n",
       "    'status': 'stopped',\n",
       "    'medicationCodeableConcept': {'coding': [{'system': 'http://snomed.info/sct',\n",
       "       'code': '323418000',\n",
       "       'display': 'Aspirin 75 mg (Maintenance dose)'},\n",
       "      {'system': 'http://nehta.gov.au/amt/v2',\n",
       "       'code': '22571011000036102',\n",
       "       'display': 'Amlodipine 5mg OD'}]},\n",
       "    'subject': {'reference': 'Patient/1732972'},\n",
       "    'basedOn': [{'reference': 'MedicationRequest/2501364'}],\n",
       "    'derivedFrom': [{'reference': 'MedicationRequest/2501364'}],\n",
       "    'resourceType': 'MedicationStatement'}}]}"
      ]
     },
     "execution_count": null,
     "metadata": {},
     "output_type": "execute_result"
    }
   ],
   "source": [
    "transformed_bundle"
   ]
  }
 ],
 "metadata": {
  "kernelspec": {
   "display_name": "Python 3",
   "language": "python",
   "name": "python3"
  }
 },
 "nbformat": 4,
 "nbformat_minor": 5
}
