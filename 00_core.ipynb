{
 "cells": [
  {
   "cell_type": "code",
   "execution_count": null,
   "metadata": {},
   "outputs": [],
   "source": [
    "# default_exp core"
   ]
  },
  {
   "cell_type": "markdown",
   "metadata": {},
   "source": [
    "# module name here\n",
    "\n",
    "> API details."
   ]
  },
  {
   "cell_type": "markdown",
   "metadata": {},
   "source": [
    "## Define `print_resource` - a generic way to print a resource\n",
    "\n",
    "We use `print_resource(procedure)` etc, rather than looking at specific resource details with code like `procedure.code.coding[0].as_json()`, so that the demos won't fail if resouces are missing specific content."
   ]
  },
  {
   "cell_type": "code",
   "execution_count": null,
   "metadata": {},
   "outputs": [],
   "source": [
    "#export\n",
    "import json"
   ]
  },
  {
   "cell_type": "code",
   "execution_count": null,
   "metadata": {},
   "outputs": [],
   "source": [
    "from fastcore.test import test_eq, test_stdout"
   ]
  },
  {
   "cell_type": "code",
   "execution_count": null,
   "metadata": {},
   "outputs": [],
   "source": [
    "#export\n",
    "def resource_to_string(resource, indent=None, length=100):\n",
    "    if isinstance(resource, list): return [resource_to_string(r) for r in resource]\n",
    "    s=f'{resource.__class__.__name__} {json.dumps(resource.as_json(), indent=indent)}'\n",
    "    return f'{s[:length-4]} ...' if len(s)>length else s"
   ]
  },
  {
   "cell_type": "code",
   "execution_count": null,
   "metadata": {},
   "outputs": [],
   "source": [
    "import fhirclient.models.patient as p\n",
    "import fhirclient.models.humanname as hn\n",
    "patient = p.Patient({'id': 'patient-1'})\n",
    "expected = 'Patient {\"id\": \"patient-1\", \"resourceType\": \"Patient\"}'\n",
    "test_eq(resource_to_string(patient), expected)\n",
    "test_eq(resource_to_string([patient, patient]), [expected, expected])"
   ]
  },
  {
   "cell_type": "code",
   "execution_count": null,
   "metadata": {},
   "outputs": [],
   "source": [
    "#export\n",
    "def print_resource(resource, indent=None, length=90):\n",
    "    print(resource_to_string(resource, indent, length))"
   ]
  },
  {
   "cell_type": "code",
   "execution_count": null,
   "metadata": {},
   "outputs": [],
   "source": [
    "test_stdout(lambda: print_resource(patient), expected)"
   ]
  },
  {
   "cell_type": "code",
   "execution_count": null,
   "metadata": {},
   "outputs": [
    {
     "name": "stdout",
     "output_type": "stream",
     "text": [
      "Converted 00_core.ipynb.\n",
      "Converted 10_patient_and_medication_search.ipynb.\n",
      "Converted 50_flask_hello_world.ipynb.\n",
      "Converted 51_flask_client_py_readme.ipynb.\n",
      "Converted index.ipynb.\n"
     ]
    }
   ],
   "source": [
    "#hide\n",
    "from nbdev.export import notebook2script\n",
    "notebook2script()"
   ]
  }
 ],
 "metadata": {
  "kernelspec": {
   "display_name": "Python 3",
   "language": "python",
   "name": "python3"
  }
 },
 "nbformat": 4,
 "nbformat_minor": 2
}
