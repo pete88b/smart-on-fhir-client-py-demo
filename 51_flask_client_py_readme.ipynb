{
 "cells": [
  {
   "cell_type": "code",
   "execution_count": null,
   "id": "43ad15f4",
   "metadata": {},
   "outputs": [],
   "source": [
    "#default_exp flask_client_py_readme"
   ]
  },
  {
   "cell_type": "markdown",
   "id": "306a10b9",
   "metadata": {},
   "source": [
    "# Flask app from smart-on-fhir/client-py/README.md\n",
    "\n",
    "> Getting started with Flask using client-py."
   ]
  },
  {
   "cell_type": "markdown",
   "id": "e2379f8e",
   "metadata": {},
   "source": [
    "[![Open In Colab](https://colab.research.google.com/assets/colab-badge.svg)](https://colab.research.google.com/github/pete88b/smart-on-fhir-client-py-demo/blob/main/51_flask_client_py_readme.ipynb)"
   ]
  },
  {
   "cell_type": "markdown",
   "id": "a7472549",
   "metadata": {},
   "source": [
    "# Getting started\n",
    "\n",
    "You can run this notebook \n",
    "- [in colab](https://colab.research.google.com/github/pete88b/smart-on-fhir-client-py-demo/blob/main/51_flask_client_py_readme.ipynb) or\n",
    "    - Feel free to ignore the \"Start the app\", \"Convert this notebook\" and \"Run the app locally\" sections\n",
    "- on your own machine\n",
    "    - Please see index.ipynb and set things up to run on your own machine.\n",
    "\n",
    "See also: https://github.com/smart-on-fhir/client-py"
   ]
  },
  {
   "cell_type": "code",
   "execution_count": null,
   "id": "b9d59c5f",
   "metadata": {},
   "outputs": [],
   "source": [
    "#hide\n",
    "IN_COLAB = 'google.colab' in str(get_ipython())\n",
    "if IN_COLAB:\n",
    "    !pip install -Uqq git+https://github.com/smart-on-fhir/client-py.git\n",
    "    !pip install flask-ngrok"
   ]
  },
  {
   "cell_type": "markdown",
   "id": "66edab9b",
   "metadata": {},
   "source": [
    "## Code and test a simple flask app"
   ]
  },
  {
   "cell_type": "code",
   "execution_count": null,
   "id": "3646cc40",
   "metadata": {},
   "outputs": [],
   "source": [
    "#export\n",
    "import logging\n",
    "from fhirclient import client\n",
    "from fhirclient.models.medication import Medication\n",
    "from fhirclient.models.medicationrequest import MedicationRequest\n",
    "from fhirclient.models.patient import Patient\n",
    "from flask import Flask, request, redirect, session, url_for"
   ]
  },
  {
   "cell_type": "markdown",
   "id": "e8341878",
   "metadata": {},
   "source": [
    "## App setup"
   ]
  },
  {
   "cell_type": "code",
   "execution_count": null,
   "id": "ef611207",
   "metadata": {},
   "outputs": [
    {
     "data": {
      "text/plain": [
       "True"
      ]
     },
     "execution_count": null,
     "metadata": {},
     "output_type": "execute_result"
    }
   ],
   "source": [
    "#export\n",
    "smart_defaults = {\n",
    "    'app_id': 'my_web_app',\n",
    "    'api_base': 'http://wildfhir4.aegis.net/fhir4-0-0',\n",
    "#     'api_base': 'http://hapi.fhir.org/baseR4',\n",
    "    'redirect_uri': 'http://localhost:8000/fhir-app/',\n",
    "}\n",
    "\n",
    "app = Flask(__name__)\n",
    "app.config.from_mapping(\n",
    "    # a default secret that should be overridden by instance config\n",
    "    SECRET_KEY=\"dev\"\n",
    ")"
   ]
  },
  {
   "cell_type": "markdown",
   "id": "80d30c51",
   "metadata": {},
   "source": [
    "## Helper functions"
   ]
  },
  {
   "cell_type": "code",
   "execution_count": null,
   "id": "5a9bfef1",
   "metadata": {},
   "outputs": [],
   "source": [
    "#export\n",
    "def _save_state(state):\n",
    "    session['state'] = state\n",
    "\n",
    "def _get_smart():\n",
    "    state = session.get('state')\n",
    "    if state:\n",
    "        return client.FHIRClient(state=state, save_func=_save_state)\n",
    "    else:\n",
    "        return client.FHIRClient(settings=smart_defaults, save_func=_save_state)\n",
    "\n",
    "def _logout():\n",
    "    if 'state' in session:\n",
    "        smart = _get_smart()\n",
    "        smart.reset_patient()\n",
    "\n",
    "def _reset():\n",
    "    if 'state' in session:\n",
    "        del session['state']\n",
    "\n",
    "def _get_prescriptions(smart):\n",
    "    bundle = MedicationRequest.where({'patient': smart.patient_id}).perform(smart.server)\n",
    "    pres = [be.resource for be in bundle.entry] if bundle is not None and bundle.entry is not None else None\n",
    "    if pres is not None and len(pres) > 0:\n",
    "        return pres\n",
    "    return None\n",
    "\n",
    "def _get_medication_by_ref(ref, smart):\n",
    "    med_id = ref.split(\"/\")[1]\n",
    "    return Medication.read(med_id, smart.server).code\n",
    "\n",
    "def _med_name(med):\n",
    "    if med.coding:\n",
    "        name = next((coding.display for coding in med.coding if coding.system == 'http://www.nlm.nih.gov/research/umls/rxnorm'), None)\n",
    "        if name:\n",
    "            return name\n",
    "    if med.text and med.text:\n",
    "        return med.text\n",
    "    return \"Unnamed Medication(TM)\"\n",
    "\n",
    "def _get_med_name(prescription, client=None):\n",
    "    if prescription.medicationCodeableConcept is not None:\n",
    "        med = prescription.medicationCodeableConcept\n",
    "        return _med_name(med)\n",
    "    elif prescription.medicationReference is not None and client is not None:\n",
    "        med = _get_medication_by_ref(prescription.medicationReference.reference, client)\n",
    "        return _med_name(med)\n",
    "    else:\n",
    "        return 'Error: medication not found'"
   ]
  },
  {
   "cell_type": "code",
   "execution_count": null,
   "id": "e4b726fa",
   "metadata": {},
   "outputs": [],
   "source": [
    "#export\n",
    "def _get_patients(smart):\n",
    "    bundle = Patient.where(struct={}).perform(smart.server)\n",
    "    patients = [be.resource for be in bundle.entry] if bundle is not None and bundle.entry is not None else None\n",
    "    if patients is not None and len(patients) > 0:\n",
    "        return patients\n",
    "    return None"
   ]
  },
  {
   "cell_type": "code",
   "execution_count": null,
   "id": "9bde1b02",
   "metadata": {},
   "outputs": [],
   "source": [
    "smart = client.FHIRClient(settings=smart_defaults)\n",
    "for p in _get_patients(smart): assert p.id is not None # TODO: write a better test"
   ]
  },
  {
   "cell_type": "markdown",
   "id": "882b2b0e",
   "metadata": {},
   "source": [
    "## Views"
   ]
  },
  {
   "cell_type": "code",
   "execution_count": null,
   "id": "ca70197c",
   "metadata": {},
   "outputs": [],
   "source": [
    "#export\n",
    "@app.route('/')\n",
    "@app.route('/index.html')\n",
    "def index():\n",
    "    \"\"\" The app's main page.\n",
    "    \"\"\"\n",
    "    smart = _get_smart()\n",
    "    body = \"<h1>Hello</h1>\"\n",
    "    \n",
    "    if request.args.get('patient_id') is not None:\n",
    "        smart.patient_id = request.args.get('patient_id')\n",
    "    print('ready',smart.ready,'patient_id',smart.patient_id,'patient',smart.patient)\n",
    "    \n",
    "    def _format_name(patient):\n",
    "        return smart.human_name(patient.name[0] if patient.name and len(patient.name) > 0 else 'Unknown')\n",
    "    \n",
    "    def _format_patient(patient):\n",
    "        s = f'{patient.id} {_format_name(patient)} '\n",
    "        if patient.birthDate is not None: s += patient.birthDate.isostring\n",
    "        return s\n",
    "    \n",
    "    if smart.ready and smart.patient is not None: # \"ready\" may be true but the access token may have expired, making smart.patient = None\n",
    "        name = _format_name(smart.patient)\n",
    "        \n",
    "        # generate simple body text\n",
    "        body += \"<p>You are authorized and ready to make API requests for <em>{0}</em>.</p>\".format(name)\n",
    "        pres = _get_prescriptions(smart)\n",
    "        if pres is not None:\n",
    "            body += \"<p>{0} prescriptions: <ul><li>{1}</li></ul></p>\".format(\"His\" if 'male' == smart.patient.gender else \"Her\", '</li><li>'.join([_get_med_name(p,smart) for p in pres]))\n",
    "        else:\n",
    "            body += \"<p>(There are no prescriptions for {0})</p>\".format(\"him\" if 'male' == smart.patient.gender else \"her\")\n",
    "        body += \"\"\"<p><a href=\"/logout\">Change patient</a></p>\"\"\"\n",
    "    else:\n",
    "        auth_url = smart.authorize_url\n",
    "        if auth_url is not None:\n",
    "            body += \"\"\"<p>Please <a href=\"{0}\">authorize</a>.</p>\"\"\".format(auth_url)\n",
    "        else:\n",
    "            body += \"\"\"<p>Running against a no-auth server.<br>\"\"\"\n",
    "            for patient in _get_patients(smart):\n",
    "                # id name dob\n",
    "                body += \"<hr><a href='{0}'>Select patient</a> {1}\".format(\n",
    "                    url_for('index', patient_id=patient.id),\n",
    "                    _format_patient(patient))\n",
    "#             body += '<br>'.join(resource_to_string(_get_patients(smart)))\n",
    "        body += \"\"\"<p><a href=\"/reset\" style=\"font-size:small;\">Reset</a></p>\"\"\"\n",
    "    return body"
   ]
  },
  {
   "cell_type": "code",
   "execution_count": null,
   "id": "a058de0d",
   "metadata": {},
   "outputs": [],
   "source": [
    "#export\n",
    "@app.route('/fhir-app/')\n",
    "def callback():\n",
    "    \"\"\" OAuth2 callback interception.\n",
    "    \"\"\"\n",
    "    smart = _get_smart()\n",
    "    try:\n",
    "        smart.handle_callback(request.url)\n",
    "    except Exception as e:\n",
    "        return \"\"\"<h1>Authorization Error</h1><p>{0}</p><p><a href=\"/\">Start over</a></p>\"\"\".format(e)\n",
    "    return redirect('/')"
   ]
  },
  {
   "cell_type": "code",
   "execution_count": null,
   "id": "045973a5",
   "metadata": {},
   "outputs": [],
   "source": [
    "#export\n",
    "@app.route('/logout')\n",
    "def logout():\n",
    "    _logout()\n",
    "    return redirect('/')"
   ]
  },
  {
   "cell_type": "code",
   "execution_count": null,
   "id": "87adcf4f",
   "metadata": {},
   "outputs": [],
   "source": [
    "#export\n",
    "@app.route('/reset')\n",
    "def reset():\n",
    "    _reset()\n",
    "    return redirect('/')"
   ]
  },
  {
   "cell_type": "markdown",
   "id": "f262c074",
   "metadata": {},
   "source": [
    "## Start the app"
   ]
  },
  {
   "cell_type": "code",
   "execution_count": null,
   "id": "b37de072",
   "metadata": {},
   "outputs": [],
   "source": [
    "#export\n",
    "try: from nbdev.imports import IN_NOTEBOOK\n",
    "except: IN_NOTEBOOK = False\n",
    "if '__main__' == __name__ and not IN_NOTEBOOK:\n",
    "    logging.basicConfig(level=logging.DEBUG)\n",
    "    app.run(debug=True, port=8000)"
   ]
  },
  {
   "cell_type": "markdown",
   "id": "e19d64a2",
   "metadata": {},
   "source": [
    "## Convert this notebook to a python module\n",
    "\n",
    "After making changes to this notebook, we need to get nbdev to re-create the `flask_client_py_readme.py` file.\n",
    "\n",
    "We can do this in code &darr; or from the command line with `nbdev_build_lib`"
   ]
  },
  {
   "cell_type": "code",
   "execution_count": null,
   "id": "6e2838c7",
   "metadata": {},
   "outputs": [
    {
     "name": "stdout",
     "output_type": "stream",
     "text": [
      "Converted 51_flask_client_py_readme.ipynb.\n"
     ]
    }
   ],
   "source": [
    "if not IN_COLAB:\n",
    "    from nbdev.export import notebook2script\n",
    "    notebook2script('51_flask_client_py_readme.ipynb')"
   ]
  },
  {
   "cell_type": "markdown",
   "id": "4b0740d8",
   "metadata": {},
   "source": [
    "## Run the app locally\n",
    "\n",
    "Now we can run `python smart_on_fhir_client_py_demo/flask_client_py_readme.py` from the command line and hit \n",
    "- http://localhost:8000/"
   ]
  },
  {
   "cell_type": "markdown",
   "id": "e6829d92",
   "metadata": {},
   "source": [
    "## Run the app in colab\n",
    "\n",
    "The following cell will only run if you're in colab, where you'll see output like\n",
    "\n",
    "```\n",
    " * Serving Flask app \"__main__\" (lazy loading)\n",
    " ...\n",
    "INFO:werkzeug: * Running on http://127.0.0.1:5000/ (Press CTRL+C to quit)\n",
    "DEBUG:urllib3.connectionpool:Starting new HTTPS connection (1): bin.equinox.io:443\n",
    "...\n",
    "DEBUG:urllib3.connectionpool:http://localhost:4040 \"GET /api/tunnels HTTP/1.1\" 200 779\n",
    " * Running on http://35c09c8e5eb5.ngrok.io\n",
    " * Traffic stats available on http://127.0.0.1:4040\n",
    "```\n",
    "\n",
    "Hit the `ngrok.io` link to see the app - none of the localhost or 127.0.0.1 links will work"
   ]
  },
  {
   "cell_type": "code",
   "execution_count": null,
   "id": "5af8e3a9",
   "metadata": {},
   "outputs": [],
   "source": [
    "if IN_COLAB:\n",
    "    logging.basicConfig(level=logging.DEBUG)\n",
    "    from flask_ngrok import run_with_ngrok\n",
    "    run_with_ngrok(app)\n",
    "    app.run()"
   ]
  }
 ],
 "metadata": {
  "kernelspec": {
   "display_name": "Python 3",
   "language": "python",
   "name": "python3"
  }
 },
 "nbformat": 4,
 "nbformat_minor": 5
}
